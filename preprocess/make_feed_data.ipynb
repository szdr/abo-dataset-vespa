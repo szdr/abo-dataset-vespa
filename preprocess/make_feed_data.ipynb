{
 "cells": [
  {
   "cell_type": "code",
   "execution_count": 1,
   "id": "31089079-bd1d-4bf8-8c00-300d2e249b02",
   "metadata": {},
   "outputs": [
    {
     "name": "stderr",
     "output_type": "stream",
     "text": [
      "/home/shogo/.local/lib/python3.10/site-packages/tqdm/auto.py:21: TqdmWarning: IProgress not found. Please update jupyter and ipywidgets. See https://ipywidgets.readthedocs.io/en/stable/user_install.html\n",
      "  from .autonotebook import tqdm as notebook_tqdm\n"
     ]
    }
   ],
   "source": [
    "import pandas as pd\n",
    "import torch\n",
    "from PIL import Image\n",
    "from transformers import CLIPProcessor, CLIPModel\n",
    "import torch.nn.functional as F\n",
    "import json\n",
    "from tqdm import tqdm"
   ]
  },
  {
   "cell_type": "code",
   "execution_count": 2,
   "id": "3bb08472-bd72-48fb-aecb-4eec7981d778",
   "metadata": {},
   "outputs": [],
   "source": [
    "df = pd.read_csv(\"../output/dataset.tsv\", sep=\"\\t\")"
   ]
  },
  {
   "cell_type": "code",
   "execution_count": 3,
   "id": "987046a5-cd12-4126-a7a2-824f7590a869",
   "metadata": {},
   "outputs": [
    {
     "data": {
      "text/html": [
       "<div>\n",
       "<style scoped>\n",
       "    .dataframe tbody tr th:only-of-type {\n",
       "        vertical-align: middle;\n",
       "    }\n",
       "\n",
       "    .dataframe tbody tr th {\n",
       "        vertical-align: top;\n",
       "    }\n",
       "\n",
       "    .dataframe thead th {\n",
       "        text-align: right;\n",
       "    }\n",
       "</style>\n",
       "<table border=\"1\" class=\"dataframe\">\n",
       "  <thead>\n",
       "    <tr style=\"text-align: right;\">\n",
       "      <th></th>\n",
       "      <th>item_id</th>\n",
       "      <th>item_name_en_us</th>\n",
       "      <th>path</th>\n",
       "    </tr>\n",
       "  </thead>\n",
       "  <tbody>\n",
       "    <tr>\n",
       "      <th>0</th>\n",
       "      <td>B074J5TWYL</td>\n",
       "      <td>365 Everyday Value, Organic Black Tea (70 Tea ...</td>\n",
       "      <td>03/03fde183.jpg</td>\n",
       "    </tr>\n",
       "    <tr>\n",
       "      <th>1</th>\n",
       "      <td>B019OL9E02</td>\n",
       "      <td>Otterbox Symmetry Series iPhone 6/6s Case and ...</td>\n",
       "      <td>29/291959a2.jpg</td>\n",
       "    </tr>\n",
       "    <tr>\n",
       "      <th>2</th>\n",
       "      <td>B0832ZNTS4</td>\n",
       "      <td>Fresh Brand – Mixed Squash Spirals, 14 oz</td>\n",
       "      <td>51/51c21968.jpg</td>\n",
       "    </tr>\n",
       "    <tr>\n",
       "      <th>3</th>\n",
       "      <td>B07PXFVNXR</td>\n",
       "      <td>Ameriwood Home Classic 5 Drawer Dresser, White</td>\n",
       "      <td>19/19196356.jpg</td>\n",
       "    </tr>\n",
       "    <tr>\n",
       "      <th>4</th>\n",
       "      <td>B07KG3F83Z</td>\n",
       "      <td>Whole Foods Market, Triple Milled Soap, Sandal...</td>\n",
       "      <td>d9/d9f07a0a.jpg</td>\n",
       "    </tr>\n",
       "  </tbody>\n",
       "</table>\n",
       "</div>"
      ],
      "text/plain": [
       "      item_id                                    item_name_en_us  \\\n",
       "0  B074J5TWYL  365 Everyday Value, Organic Black Tea (70 Tea ...   \n",
       "1  B019OL9E02  Otterbox Symmetry Series iPhone 6/6s Case and ...   \n",
       "2  B0832ZNTS4          Fresh Brand – Mixed Squash Spirals, 14 oz   \n",
       "3  B07PXFVNXR     Ameriwood Home Classic 5 Drawer Dresser, White   \n",
       "4  B07KG3F83Z  Whole Foods Market, Triple Milled Soap, Sandal...   \n",
       "\n",
       "              path  \n",
       "0  03/03fde183.jpg  \n",
       "1  29/291959a2.jpg  \n",
       "2  51/51c21968.jpg  \n",
       "3  19/19196356.jpg  \n",
       "4  d9/d9f07a0a.jpg  "
      ]
     },
     "execution_count": 3,
     "metadata": {},
     "output_type": "execute_result"
    }
   ],
   "source": [
    "df.head()"
   ]
  },
  {
   "cell_type": "code",
   "execution_count": 4,
   "id": "2153553e-dfb7-4f95-a9d6-55b2b6e485de",
   "metadata": {},
   "outputs": [],
   "source": [
    "device = \"cuda:0\" if torch.cuda.is_available() else \"cpu\"\n",
    "model = CLIPModel.from_pretrained(\"openai/clip-vit-base-patch32\")\n",
    "model.to(device)\n",
    "processor = CLIPProcessor.from_pretrained(\"openai/clip-vit-base-patch32\")"
   ]
  },
  {
   "cell_type": "code",
   "execution_count": 5,
   "id": "9191237e-9c5e-47ac-a4ca-ba001eb5961e",
   "metadata": {},
   "outputs": [],
   "source": [
    "images_root = \"../dataset/images/small\""
   ]
  },
  {
   "cell_type": "code",
   "execution_count": 9,
   "id": "fa6adf66-3eeb-4c34-a064-bb3e9158e255",
   "metadata": {},
   "outputs": [],
   "source": [
    "def process_batch(batch):\n",
    "    # get embedding\n",
    "    images = [Image.open(images_root + \"/\" + path) for path in batch[\"path\"]]\n",
    "    inputs = processor(\n",
    "        text=batch[\"item_name_en_us\"].tolist(),\n",
    "        images=images,\n",
    "        return_tensors=\"pt\",\n",
    "        padding=True\n",
    "    ).to(device)\n",
    "    with torch.no_grad():\n",
    "        outputs = model(**inputs)\n",
    "\n",
    "    # make feed data\n",
    "    feed_data_list = []\n",
    "    for i, (_, row) in enumerate(batch.iterrows()):\n",
    "        feed_data = {\n",
    "            \"put\": \"id:item:item::\" + row[\"item_id\"],\n",
    "            \"fields\": {\n",
    "                \"item_id\": row[\"item_id\"],\n",
    "                \"item_name_en_us\": row[\"item_name_en_us\"],\n",
    "                \"path\": row[\"path\"],\n",
    "                \"text_embedding\": [round(x, 8) for x in outputs[\"text_embeds\"][i].tolist()],\n",
    "                \"image_embedding\": [round(x, 8) for x in outputs[\"image_embeds\"][i].tolist()],\n",
    "                \"synthetic_embedding\": [round(x, 8) for x in (outputs[\"text_embeds\"][i] + outputs[\"image_embeds\"][i]).tolist()]\n",
    "            }\n",
    "        }\n",
    "        feed_data_list.append(feed_data)\n",
    "\n",
    "    return feed_data_list"
   ]
  },
  {
   "cell_type": "code",
   "execution_count": 10,
   "id": "eb315a97-f11a-48a6-9c27-a874626b29e8",
   "metadata": {},
   "outputs": [],
   "source": [
    "batch_size = 32"
   ]
  },
  {
   "cell_type": "code",
   "execution_count": 13,
   "id": "0b2ff498-e45d-46fe-aee4-6dfd1775f2fa",
   "metadata": {},
   "outputs": [
    {
     "name": "stderr",
     "output_type": "stream",
     "text": [
      "100%|████████████████████████████████████████████████████████████████████████████████████████████████████████████████████████████████████████████████████| 638/638 [03:51<00:00,  2.76it/s]\n"
     ]
    }
   ],
   "source": [
    "with open(\"../output/feed.jsonl\", \"w\") as fp:\n",
    "    for start_idx in tqdm(range(0, len(df), batch_size)):\n",
    "        batch = df.iloc[start_idx:start_idx + batch_size]\n",
    "        feed_data_list = process_batch(batch)\n",
    "        for feed_data in feed_data_list:\n",
    "            json.dump(feed_data, fp)\n",
    "            fp.write(\"\\n\")"
   ]
  },
  {
   "cell_type": "code",
   "execution_count": null,
   "id": "47bd87f9-4357-4dea-aabf-f0322d3fb359",
   "metadata": {},
   "outputs": [],
   "source": []
  }
 ],
 "metadata": {
  "kernelspec": {
   "display_name": "Python 3 (ipykernel)",
   "language": "python",
   "name": "python3"
  },
  "language_info": {
   "codemirror_mode": {
    "name": "ipython",
    "version": 3
   },
   "file_extension": ".py",
   "mimetype": "text/x-python",
   "name": "python",
   "nbconvert_exporter": "python",
   "pygments_lexer": "ipython3",
   "version": "3.10.12"
  }
 },
 "nbformat": 4,
 "nbformat_minor": 5
}
